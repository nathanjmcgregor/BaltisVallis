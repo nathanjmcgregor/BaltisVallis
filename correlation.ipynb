{
 "cells": [
  {
   "cell_type": "code",
   "execution_count": 2,
   "id": "35fd6bab",
   "metadata": {},
   "outputs": [],
   "source": [
    "import numpy as np\n",
    "import matplotlib.pyplot as plt\n",
    "from math import radians, cos, sin, asin, sqrt\n",
    "import os"
   ]
  },
  {
   "cell_type": "markdown",
   "id": "2fccef14",
   "metadata": {},
   "source": [
    "# Correlation Function"
   ]
  },
  {
   "cell_type": "code",
   "execution_count": 18,
   "id": "0f7a8932",
   "metadata": {},
   "outputs": [],
   "source": [
    "def correlation(filename, baseline):\n",
    "        \n",
    "    \"\"\"\n",
    "    correlation equation that compares one dataset to another\n",
    "    pass in baseline profile (either first or last year in data set)\n",
    "    pass in the filename for each subsequent (or former) year's data\n",
    "    compare each subsequent (or former) year data with baseline profile\n",
    "    if baseline is first year, then first correlation = 1\n",
    "    if baseline is last year, then last correlation = 1\n",
    "    range of values should largely fall between 0 and 1\n",
    "    EX) two datasets, y and y'\n",
    "        the correlation is the sum of y times y' divided by the squareroot\n",
    "        of the sum of y squared and y' squared multiplied together\n",
    "    \"\"\"\n",
    "    \n",
    "    data_profile = np.loadtxt(filename)\n",
    "    bv_profile = data_profile[:,3]\n",
    "    dcorr = (np.sum(baseline*bv_profile))/(sqrt(np.sum(baseline**2)*np.sum(bv_profile**2)))\n",
    "    \n",
    "    return dcorr"
   ]
  },
  {
   "cell_type": "markdown",
   "id": "145f6320",
   "metadata": {},
   "source": [
    "# Plot Correlation Function"
   ]
  },
  {
   "cell_type": "code",
   "execution_count": 19,
   "id": "c494e027",
   "metadata": {},
   "outputs": [],
   "source": [
    "def plot_correlation(timespan, path, correlations):\n",
    "\n",
    "    # overly complicated way to extract the last year in the data set from the filename\n",
    "    # converts from string to int to be used for length of x-axis (Myr)\n",
    "    timespan = timespan.rsplit('_', 1)\n",
    "    timespan = timespan[0]\n",
    "    timespan = timespan.rsplit('_', 1)[-1]\n",
    "    timespan = timespan.replace('Myr', \"\")\n",
    "    timespan = timespan.lstrip(\"0\")\n",
    "    timespan = int(timespan)\n",
    "\n",
    "    # extract plot name from basename of directory path \n",
    "    plt_name = os.path.basename(path)\n",
    "\n",
    "    # create x-axis value, end point is from the last year of data set extracted\n",
    "    # from filename above, then split range into an eqaul number of values as \n",
    "    # the correlation values (the y axis)\n",
    "    t = np.linspace(0,timespan,len(correlations))\n",
    "\n",
    "    # plot correlation values against time (Myr)\n",
    "    plt.xlabel(\"Time (Myr)\")\n",
    "    plt.ylabel(\"Correlation\")\n",
    "    plt.scatter(t, correlations, marker='+', c=\"k\", s=20, linewidths=0.5)\n",
    "    plt.title(plt_name)\n",
    "    plt.minorticks_on()\n",
    "    plt.tight_layout()\n",
    "    plt.tick_params(which='both', direction='in', top=True, right=True, labelbottom = True, bottom = True)\n",
    "    plt.savefig('Correlation_' + str(plt_name) + '.png', dpi = 300, facecolor=(1, 1, 1))"
   ]
  },
  {
   "cell_type": "markdown",
   "id": "19313aed",
   "metadata": {},
   "source": [
    "# Data Set Loop - Correlate and Plot "
   ]
  },
  {
   "cell_type": "code",
   "execution_count": 35,
   "id": "4c73fffc",
   "metadata": {},
   "outputs": [
    {
     "name": "stdout",
     "output_type": "stream",
     "text": [
      "Enter Data Set: Newtopo3low4LT\n"
     ]
    },
    {
     "data": {
      "image/png": "[encoded data removed]",
      "text/plain": [
       "<Figure size 432x288 with 1 Axes>"
      ]
     },
     "metadata": {
      "needs_background": "light"
     },
     "output_type": "display_data"
    }
   ],
   "source": [
    "# update directory to current data set\n",
    "data_set = input(\"Enter Data Set: \")\n",
    "directory = '/Users/nmcgregor/Documents/BaltisVallis/cedric_topo_data/' + data_set\n",
    "\n",
    "#initalize arrays \n",
    "corr_values = []\n",
    "files = []\n",
    "\n",
    "# builds list of filenames in directory and sorts them \n",
    "for filename in os.listdir(directory):\n",
    "    if filename.endswith(\".llt.dat\"):        \n",
    "        file = os.path.join(directory, filename)\n",
    "        files.append(file)\n",
    "        files.sort()\n",
    "\n",
    "# baseline BV profile (starting point to which all other BV profiles will be correlated)\n",
    "data_base = np.loadtxt(files[-1])\n",
    "bv_base = data_base[:,3]    \n",
    "\n",
    "# iterate over all profiles, calculate correlation between baseline BV profile\n",
    "# and each other profile, pass correlations to array\n",
    "for i in files:\n",
    "    corr = correlation(i, bv_base)\n",
    "    corr_values.append(corr)\n",
    "    \n",
    "x_len = files[-1].rsplit('/', 1)[1]\n",
    "plot_correlation(x_len, directory, corr_values)"
   ]
  },
  {
   "cell_type": "code",
   "execution_count": null,
   "id": "05a55c45",
   "metadata": {},
   "outputs": [],
   "source": []
  },
  {
   "cell_type": "code",
   "execution_count": null,
   "id": "b3edbecd",
   "metadata": {},
   "outputs": [],
   "source": []
  },
  {
   "cell_type": "code",
   "execution_count": null,
   "id": "ed82d3da",
   "metadata": {},
   "outputs": [],
   "source": []
  },
  {
   "cell_type": "code",
   "execution_count": null,
   "id": "648423a8",
   "metadata": {},
   "outputs": [],
   "source": [
    "data_directory = '/Users/nmcgregor/Documents/BaltisVallis/cedric_topo_data/'\n",
    "data_set_names = [f for f in os.listdir(data_directory) if os.path.isdir(os.path.join(data_directory,f))]\n",
    "\n",
    "for i in range(len(data_set_names)):\n",
    "    data_set = data_directory + data_set_names[i]"
   ]
  },
  {
   "cell_type": "markdown",
   "id": "9798c9ee",
   "metadata": {},
   "source": [
    "# Plot Correlation Values"
   ]
  },
  {
   "cell_type": "code",
   "execution_count": 141,
   "id": "c8cff8b5",
   "metadata": {},
   "outputs": [
    {
     "data": {
      "image/png": "[encoded data removed]",
      "text/plain": [
       "<Figure size 432x288 with 1 Axes>"
      ]
     },
     "metadata": {
      "needs_background": "light"
     },
     "output_type": "display_data"
    }
   ],
   "source": [
    "# overly complicated way to extract the last year in the data set from the filename\n",
    "# converts from string to int to be used for length of x-axis (Myr)\n",
    "x_len = files[-1].rsplit('/', 1)[1]\n",
    "x_len = x_len.rsplit('_', 1)\n",
    "x_len = x_len[0]\n",
    "x_len = x_len.rsplit('_', 1)[-1]\n",
    "x_len = x_len.replace('Myr', \"\")\n",
    "x_len = x_len.lstrip(\"0\")\n",
    "x_len = int(x_len)\n",
    "\n",
    "# extract plot name from basename of directory path \n",
    "plt_name = os.path.basename(directory)\n",
    "\n",
    "# create x-axis value, end point is from the last year of data set extracted\n",
    "# from filename above, then split range into an eqaul number of values as \n",
    "# the correlation values (the y axis)\n",
    "t = np.linspace(0,x_len,len(corr_values))\n",
    "\n",
    "# plot correlation values against time (Myr)\n",
    "plt.xlabel(\"Time (Myr)\")\n",
    "plt.ylabel(\"Correlation\")\n",
    "plt.scatter(t, corr_values, marker='+', c=\"k\", s=20, linewidths=0.5)\n",
    "plt.title(plt_name)\n",
    "plt.minorticks_on()\n",
    "plt.tight_layout()\n",
    "plt.tick_params(which='both', direction='in', top=True, right=True, labelbottom = True, bottom = True)\n",
    "plt.savefig('Correlation_' + str(plt_name) + '.png', dpi = 300, facecolor=(1, 1, 1))"
   ]
  },
  {
   "cell_type": "markdown",
   "id": "c963bf1e",
   "metadata": {},
   "source": [
    "# Haversine Formula Function"
   ]
  },
  {
   "cell_type": "code",
   "execution_count": 12,
   "id": "3bbff457",
   "metadata": {},
   "outputs": [],
   "source": [
    "def haversine(lon1, lat1, lon2, lat2):\n",
    "    \n",
    "    \"\"\"\n",
    "    Calculate the great circle distance in meters between two points \n",
    "    on Venus (lat and lon specified in decimal degrees)\n",
    "    \"\"\"\n",
    "    \n",
    "    r = 6051.8e3 # Radius of Venus in meters. Determines return value units. From NASA Venus sheet.\n",
    "\n",
    "    # convert decimal degrees to radians \n",
    "    lon1, lat1, lon2, lat2 = map(radians, [lon1, lat1, lon2, lat2]) \n",
    "        \n",
    "    # haversine formula \n",
    "    dlon = lon2 - lon1 \n",
    "    dlat = lat2 - lat1 \n",
    "    a = sin(dlat/2)**2 + cos(lat1) * cos(lat2) * sin(dlon/2)**2\n",
    "    c = 2 * r * asin(sqrt(a)) \n",
    "    return c"
   ]
  },
  {
   "cell_type": "markdown",
   "id": "92939fdc",
   "metadata": {},
   "source": [
    "# Calculate distance from single data set"
   ]
  },
  {
   "cell_type": "code",
   "execution_count": null,
   "id": "3da432bd",
   "metadata": {},
   "outputs": [],
   "source": []
  },
  {
   "cell_type": "code",
   "execution_count": null,
   "id": "3062b2b0",
   "metadata": {},
   "outputs": [],
   "source": []
  },
  {
   "cell_type": "code",
   "execution_count": 19,
   "id": "14d5a292",
   "metadata": {},
   "outputs": [],
   "source": [
    "\"\"\"\n",
    "for each point, calculate distance to next point and sum\n",
    "\"\"\"\n",
    "\n",
    "# Load BV data - includes lat, lon, and BV in degrees\n",
    "data = np.loadtxt('DT_Newtopo3full_00400Myr_00290.txt.llt.dat') \n",
    "\n",
    "# Variables\n",
    "lat = data[:,0]; lon = data[:,1]; bv = data[:,3]; \n",
    "i = 0 # start value\n",
    "sum = 0 # start value\n",
    "\n",
    "# loop that iterates over lat and lon values, passes them to haversine function\n",
    "# which returns the distance from one point to the next, and continues to calculate\n",
    "# the distance from point 1 to 2, 3 to 4, 4 to 5 and so on while summing them to\n",
    "# calculate total distance of BV\n",
    "# len(data)-1 needed to end loop at end of array since incremeting by one each step\n",
    "\n",
    "for i in range(len(data)-1):\n",
    "    sum += haversine(lon[i], lat[i], lon[i+1], lat[i+1])"
   ]
  },
  {
   "cell_type": "code",
   "execution_count": 14,
   "id": "21cfa49e",
   "metadata": {},
   "outputs": [
    {
     "data": {
      "text/plain": [
       "6725920.66409986"
      ]
     },
     "execution_count": 14,
     "metadata": {},
     "output_type": "execute_result"
    }
   ],
   "source": [
    "sum"
   ]
  },
  {
   "cell_type": "code",
   "execution_count": 18,
   "id": "26aa2fbe",
   "metadata": {},
   "outputs": [
    {
     "data": {
      "text/plain": [
       "6725920.66409986"
      ]
     },
     "execution_count": 18,
     "metadata": {},
     "output_type": "execute_result"
    }
   ],
   "source": [
    "sum"
   ]
  },
  {
   "cell_type": "markdown",
   "id": "d1a722b2",
   "metadata": {},
   "source": [
    "# Plot BV elevation values over its distance"
   ]
  },
  {
   "cell_type": "code",
   "execution_count": 30,
   "id": "6a38d975",
   "metadata": {},
   "outputs": [
    {
     "data": {
      "image/png": "[encoded data removed]",
      "text/plain": [
       "<Figure size 432x288 with 1 Axes>"
      ]
     },
     "metadata": {
      "needs_background": "light"
     },
     "output_type": "display_data"
    }
   ],
   "source": [
    "\"\"\"\n",
    "plots BV elevation interpolated from grid values of Cedric's data (topography data)\n",
    "against length of BV \n",
    "\"\"\"\n",
    "\n",
    "# x values array needs to have same # of elements as BV elevation values\n",
    "# sum is divided by 1e3 so units are km \n",
    "dist = np.linspace(0,sum/1e3,len(data))\n",
    "\n",
    "plt.xlabel(\"Distance (km)\")\n",
    "plt.ylabel(\"Elevation (km)\")\n",
    "plt.plot(dist,bv/1e3,\"k-\",linewidth=1)\n",
    "plt.title(\"400Myr\")\n",
    "plt.minorticks_on()\n",
    "plt.tight_layout()\n",
    "plt.tick_params(which='both', direction='in', top=True, right=True, labelbottom = True, bottom = True)\n",
    "plt.savefig('DT_Newtopo3full_00400Myr_00290.txt.llt.dat.png', dpi = 300, facecolor=(1, 1, 1))"
   ]
  },
  {
   "cell_type": "code",
   "execution_count": 24,
   "id": "6a7504b2",
   "metadata": {},
   "outputs": [
    {
     "data": {
      "text/plain": [
       "6725.92066409986"
      ]
     },
     "execution_count": 24,
     "metadata": {},
     "output_type": "execute_result"
    }
   ],
   "source": [
    "sum/1e3"
   ]
  },
  {
   "cell_type": "code",
   "execution_count": 53,
   "id": "89d48b16",
   "metadata": {},
   "outputs": [],
   "source": [
    "data1 = np.loadtxt('DT_Newtopo3full_00000Myr_00000.txt.llt.dat') \n",
    "data2 = np.loadtxt('DT_Newtopo3full_00013Myr_00010.txt.llt.dat')\n",
    "bv1 = data1[:,3];\n",
    "bv2 = data2[:,3];"
   ]
  },
  {
   "cell_type": "code",
   "execution_count": null,
   "id": "4ec8e6f1",
   "metadata": {},
   "outputs": [],
   "source": []
  },
  {
   "cell_type": "code",
   "execution_count": 55,
   "id": "dd83800f",
   "metadata": {},
   "outputs": [
    {
     "data": {
      "text/plain": [
       "69591.15785603492"
      ]
     },
     "execution_count": 55,
     "metadata": {},
     "output_type": "execute_result"
    }
   ],
   "source": [
    "np.sum(bv1*bv2)"
   ]
  },
  {
   "cell_type": "code",
   "execution_count": 56,
   "id": "c2dfc26c",
   "metadata": {},
   "outputs": [
    {
     "data": {
      "text/plain": [
       "69591.15785603492"
      ]
     },
     "execution_count": 56,
     "metadata": {},
     "output_type": "execute_result"
    }
   ],
   "source": [
    "(bv1*bv2).sum()"
   ]
  },
  {
   "cell_type": "code",
   "execution_count": 57,
   "id": "10b15a59",
   "metadata": {},
   "outputs": [],
   "source": [
    "s1 = np.sum(bv2*bv2)"
   ]
  },
  {
   "cell_type": "code",
   "execution_count": 58,
   "id": "712a3b31",
   "metadata": {},
   "outputs": [],
   "source": [
    "for i in range(len(data1)):\n",
    "    s2 += bv1[i]*bv2[i]"
   ]
  },
  {
   "cell_type": "code",
   "execution_count": 59,
   "id": "52372eed",
   "metadata": {},
   "outputs": [
    {
     "data": {
      "text/plain": [
       "7763796.620638774"
      ]
     },
     "execution_count": 59,
     "metadata": {},
     "output_type": "execute_result"
    }
   ],
   "source": [
    "s1"
   ]
  },
  {
   "cell_type": "code",
   "execution_count": 60,
   "id": "eb807e4a",
   "metadata": {},
   "outputs": [
    {
     "data": {
      "text/plain": [
       "118454509.90542394"
      ]
     },
     "execution_count": 60,
     "metadata": {},
     "output_type": "execute_result"
    }
   ],
   "source": [
    "s2.sum()"
   ]
  },
  {
   "cell_type": "code",
   "execution_count": 61,
   "id": "127516a8",
   "metadata": {},
   "outputs": [
    {
     "data": {
      "text/plain": [
       "118454509.90542394"
      ]
     },
     "execution_count": 61,
     "metadata": {},
     "output_type": "execute_result"
    }
   ],
   "source": [
    "np.sum(s2)"
   ]
  },
  {
   "cell_type": "code",
   "execution_count": 62,
   "id": "04b8690f",
   "metadata": {},
   "outputs": [],
   "source": [
    "for i in range(len(data1)):\n",
    "    data1[i]*data2[i]\n",
    "    "
   ]
  },
  {
   "cell_type": "code",
   "execution_count": 63,
   "id": "251298a8",
   "metadata": {},
   "outputs": [
    {
     "data": {
      "text/plain": [
       "3600.5370059214742"
      ]
     },
     "execution_count": 63,
     "metadata": {},
     "output_type": "execute_result"
    }
   ],
   "source": [
    "bv1[1]*bv2[1]"
   ]
  },
  {
   "cell_type": "code",
   "execution_count": 64,
   "id": "85b16106",
   "metadata": {},
   "outputs": [
    {
     "data": {
      "text/plain": [
       "array([ 3.82054847e+03,  3.60053701e+03,  3.36588391e+03,  3.09203686e+03,\n",
       "        2.80026303e+03,  2.51161275e+03,  2.23227853e+03,  1.94979961e+03,\n",
       "        1.66430023e+03,  1.39110155e+03,  1.14075270e+03,  9.09201368e+02,\n",
       "        7.01296567e+02,  5.17678237e+02,  3.59546750e+02,  2.32512450e+02,\n",
       "        1.28197746e+02,  5.19027487e+01,  3.55263172e+00, -2.10607064e+01,\n",
       "       -2.94037505e+01, -2.53916376e+01, -1.29258252e+01,  1.47417940e+01,\n",
       "        5.55242911e+01,  1.06931593e+02,  1.66195793e+02,  2.30374609e+02,\n",
       "        2.96360106e+02,  3.60990304e+02,  4.23014373e+02,  5.10943128e+02,\n",
       "        5.96083272e+02,  6.98200453e+02,  8.05302304e+02,  9.05644941e+02,\n",
       "        9.96232645e+02,  1.09708866e+03,  1.19957610e+03,  1.28718101e+03,\n",
       "        1.35201099e+03,  1.35634355e+03,  1.33932846e+03,  1.30106411e+03,\n",
       "        1.24211714e+03,  1.16345588e+03,  1.06643430e+03,  9.09767373e+02,\n",
       "        7.44955752e+02,  5.84467899e+02,  4.80406743e+02,  3.61873145e+02,\n",
       "        2.24227964e+02,  4.49637913e+01, -1.29594016e+02, -2.97869032e+02,\n",
       "       -4.46390052e+02, -5.82287595e+02, -7.17793097e+02, -8.50957511e+02,\n",
       "       -9.80014030e+02, -1.10437943e+03, -1.22325025e+03, -1.33195851e+03,\n",
       "       -1.43082561e+03, -1.52020339e+03, -1.60197819e+03, -1.67761915e+03,\n",
       "       -1.74727774e+03, -1.81335296e+03, -1.87664253e+03, -1.93596013e+03,\n",
       "       -1.98122380e+03, -2.02245180e+03, -2.07897356e+03, -2.12977290e+03,\n",
       "       -2.17438867e+03, -2.22016501e+03, -2.26295514e+03, -2.30253811e+03,\n",
       "       -2.33837802e+03, -2.36966039e+03, -2.39644362e+03, -2.41868065e+03,\n",
       "       -2.43685185e+03, -2.45034294e+03, -2.47025092e+03, -2.48143830e+03,\n",
       "       -2.48048775e+03, -2.46626068e+03, -2.43770282e+03, -2.39608967e+03,\n",
       "       -2.34124543e+03, -2.27135918e+03, -2.18596191e+03, -2.08474437e+03,\n",
       "       -1.96764620e+03, -1.83482938e+03, -1.68384945e+03, -1.48709406e+03,\n",
       "       -1.27226566e+03, -1.04196539e+03, -7.99259327e+02, -5.47596538e+02,\n",
       "       -2.96021207e+02, -4.62957784e+01,  2.04472136e+02,  4.52857941e+02,\n",
       "        6.75560993e+02,  7.91804584e+02,  9.28313627e+02,  1.13024824e+03,\n",
       "        1.29804769e+03,  1.38973239e+03,  1.44120761e+03,  1.48109387e+03,\n",
       "        1.50736235e+03,  1.56706276e+03,  1.64365612e+03,  1.63763351e+03,\n",
       "        1.55386234e+03,  1.41839594e+03,  1.22455408e+03,  9.80840798e+02,\n",
       "        7.57002453e+02,  5.04465280e+02,  2.06382846e+02, -1.84063727e+02,\n",
       "       -6.09066226e+02, -1.00505108e+03, -1.38291523e+03, -1.54984267e+03,\n",
       "       -1.69579025e+03, -1.92005283e+03, -2.27251522e+03, -2.59541377e+03,\n",
       "       -2.87528833e+03, -3.03124185e+03, -3.13115849e+03, -3.17346359e+03,\n",
       "       -3.15841770e+03, -3.05454140e+03, -2.84649614e+03, -2.60955069e+03,\n",
       "       -2.35108000e+03, -2.07881454e+03, -1.89666547e+03, -1.72793494e+03,\n",
       "       -1.54146888e+03, -1.34325334e+03, -1.13933369e+03, -1.11091693e+03,\n",
       "       -1.09870630e+03, -1.07277711e+03, -1.04504086e+03, -1.03453017e+03,\n",
       "       -1.01126971e+03, -7.73459786e+02, -5.15894187e+02, -2.86688371e+02,\n",
       "       -1.14186338e+02, -4.80199517e+00,  4.34683374e+01,  3.37012512e+01,\n",
       "       -2.95653261e+01, -1.40166208e+02, -2.91058018e+02, -4.73848558e+02,\n",
       "       -6.86768917e+02, -9.20434711e+02, -1.08544461e+03, -1.26026391e+03,\n",
       "       -1.26846149e+03, -1.26743209e+03, -1.37587855e+03, -1.53973771e+03,\n",
       "       -1.75035136e+03, -2.03087128e+03, -2.32127792e+03, -2.70078721e+03,\n",
       "       -3.08122707e+03, -3.44784954e+03, -3.79541871e+03, -4.11875384e+03,\n",
       "       -4.39948865e+03, -4.64902462e+03, -4.87621822e+03, -5.08577203e+03,\n",
       "       -5.26975981e+03, -5.43290667e+03, -5.54509635e+03, -5.58264553e+03,\n",
       "       -5.57228933e+03, -5.51480214e+03, -5.46981157e+03, -5.38760341e+03,\n",
       "       -5.25912820e+03, -5.08804572e+03, -4.86510185e+03, -4.60977820e+03,\n",
       "       -4.32899010e+03, -4.02931113e+03, -3.86436890e+03, -3.72764342e+03,\n",
       "       -3.58684111e+03, -3.44298110e+03, -3.20124978e+03, -2.85470262e+03,\n",
       "       -2.51685139e+03, -2.17758839e+03, -1.81073304e+03, -1.46525434e+03,\n",
       "       -1.14354602e+03, -8.57623622e+02, -5.93105571e+02, -3.49389896e+02,\n",
       "       -1.25511352e+02,  9.49803939e+01,  3.11905493e+02,  5.01404374e+02,\n",
       "        6.64915851e+02,  8.05988511e+02,  9.12356159e+02,  9.67018306e+02,\n",
       "        9.72203525e+02,  9.19076532e+02,  8.14760127e+02,  6.68036950e+02,\n",
       "        4.53892327e+02,  1.88865001e+02, -1.10813237e+02, -4.27232374e+02,\n",
       "       -7.17706668e+02, -1.00259710e+03, -1.27802214e+03, -1.42625226e+03,\n",
       "       -1.48386408e+03, -1.51157523e+03, -1.50945815e+03, -1.39994679e+03,\n",
       "       -1.19082826e+03, -9.85673487e+02, -7.91927670e+02, -5.94405685e+02,\n",
       "       -4.39203752e+02, -2.87253866e+02, -1.07646558e+02, -1.86736866e+02,\n",
       "        1.73513639e+02,  5.28645510e+02,  8.44485774e+02,  1.18736136e+03,\n",
       "        1.54557810e+03,  1.91420664e+03,  2.29559872e+03,  2.68513502e+03,\n",
       "        3.07774849e+03,  3.46757782e+03,  3.43058286e+03,  3.12131275e+03,\n",
       "        3.25123694e+03,  3.53213084e+03,  3.79268814e+03,  4.02781952e+03,\n",
       "        3.45268125e+03,  3.20736600e+03,  3.21975887e+03,  3.21612528e+03,\n",
       "        3.19953936e+03,  3.10728161e+03,  2.74669344e+03,  2.42868348e+03,\n",
       "        2.14122864e+03,  1.89749106e+03,  1.66805124e+03,  1.32751771e+03,\n",
       "        1.05379643e+03,  8.98945352e+02,  8.68508515e+02,  9.02525867e+02,\n",
       "        1.11943673e+03,  1.34638849e+03,  1.52395589e+03,  1.72435459e+03,\n",
       "        1.94793255e+03,  2.19461952e+03,  2.39442352e+03,  2.59009542e+03,\n",
       "        2.86052505e+03,  3.19560858e+03,  3.47846113e+03,  3.73943518e+03,\n",
       "        4.04524049e+03,  4.35910062e+03,  4.67426222e+03,  4.98268816e+03,\n",
       "        5.27509422e+03,  5.54114958e+03,  5.76700958e+03,  5.93729091e+03,\n",
       "        6.06613364e+03,  6.15208720e+03,  6.19457047e+03,  6.19370201e+03,\n",
       "        6.15451933e+03,  6.11474290e+03,  6.03309932e+03,  5.91119386e+03,\n",
       "        5.71191005e+03,  5.45889730e+03,  5.18355515e+03,  4.89054279e+03,\n",
       "        4.68596595e+03,  4.49253175e+03,  4.22803850e+03,  3.94668757e+03,\n",
       "        3.66568098e+03,  3.36714396e+03,  3.07145564e+03,  2.78547527e+03,\n",
       "        2.51197960e+03,  2.25338299e+03,  2.02808502e+03,  1.83048202e+03,\n",
       "        1.64508137e+03,  1.48005147e+03,  1.33089842e+03,  1.19989112e+03,\n",
       "        1.08329272e+03,  9.78774322e+02,  8.99429075e+02,  8.41630013e+02,\n",
       "        7.92846488e+02,  7.51370218e+02,  7.16496587e+02,  6.87825313e+02,\n",
       "        6.65400197e+02,  6.46597450e+02,  6.30162411e+02,  6.16464051e+02,\n",
       "        6.04804778e+02,  5.94531061e+02,  5.85042618e+02,  5.75799308e+02,\n",
       "        5.65608520e+02,  5.48776121e+02,  5.28134287e+02,  5.02945636e+02,\n",
       "        4.72557404e+02,  4.36443094e+02,  3.94275027e+02,  3.46236237e+02,\n",
       "        2.92011121e+02,  2.31826028e+02,  1.66156967e+02,  9.57083484e+01,\n",
       "        2.14496803e+01, -5.53880994e+01, -1.33343399e+02, -2.10758006e+02,\n",
       "       -2.89916413e+02, -3.67476357e+02, -4.41224473e+02, -5.08355915e+02,\n",
       "       -5.65593755e+02, -6.11406963e+02, -6.44454720e+02, -6.63663432e+02,\n",
       "       -6.68321169e+02, -6.68141867e+02, -6.97418552e+02, -7.20864585e+02,\n",
       "       -7.38558025e+02, -7.50763521e+02, -7.57939854e+02, -7.60726685e+02,\n",
       "       -7.59851391e+02, -7.56105194e+02, -7.50288606e+02, -7.39793639e+02,\n",
       "       -6.91030725e+02, -6.43065874e+02, -5.97123649e+02, -5.54051754e+02,\n",
       "       -5.14302227e+02, -4.89446501e+02, -4.86099983e+02, -4.82113810e+02,\n",
       "       -4.76568339e+02, -4.68548369e+02, -4.57216045e+02, -4.41889817e+02,\n",
       "       -4.22118551e+02, -3.61499922e+02, -2.96704424e+02, -2.31662244e+02,\n",
       "       -1.66784926e+02, -1.02655801e+02, -4.00445548e+01,  2.01071170e+01,\n",
       "        6.16236829e+01,  8.64792417e+01,  1.03724729e+02,  1.27954826e+02,\n",
       "        1.73163007e+02,  2.11776104e+02,  2.41849829e+02,  2.30767899e+02,\n",
       "        2.07599963e+02,  1.74120465e+02,  1.32111365e+02,  8.47567970e+01,\n",
       "        3.65432817e+01,  9.25355210e+00, -2.50869771e+01, -6.57769772e+01,\n",
       "       -1.11936044e+02, -1.62634482e+02, -2.09801779e+02, -2.46969757e+02,\n",
       "       -2.72276734e+02, -3.11672913e+02, -3.75105984e+02, -4.45532971e+02,\n",
       "       -4.66468272e+02, -4.53573528e+02, -4.85968897e+02, -5.33693475e+02,\n",
       "       -5.58002513e+02, -4.88481275e+02, -4.36060845e+02, -4.79667219e+02,\n",
       "       -5.22947695e+02, -5.34041029e+02, -4.41323888e+02, -3.43923511e+02,\n",
       "       -2.45320425e+02, -9.14014043e+01,  6.13474294e+01,  1.71480339e+02,\n",
       "        2.54512087e+02,  3.19995872e+02,  3.66073941e+02,  3.91631078e+02,\n",
       "        3.96342398e+02,  3.93336515e+02,  3.77267842e+02,  3.40086054e+02,\n",
       "        2.84615917e+02,  2.14332747e+02,  1.33314666e+02,  4.60605838e+01,\n",
       "       -4.25865981e+01, -1.27667066e+02, -2.04206279e+02, -2.67983484e+02,\n",
       "       -3.23835357e+02, -3.75053598e+02, -4.19603221e+02, -4.56224060e+02,\n",
       "       -4.84509721e+02, -5.04277886e+02, -5.15877829e+02, -5.19716284e+02,\n",
       "       -5.15199830e+02, -5.02883543e+02, -4.82611248e+02, -4.56822972e+02,\n",
       "       -4.27339418e+02, -3.94803779e+02, -3.59859571e+02, -3.23179901e+02,\n",
       "       -2.85415287e+02, -2.46354622e+02, -2.04428230e+02, -1.62573609e+02,\n",
       "       -1.21502488e+02, -8.03428615e+01, -4.91864657e+01, -2.75526412e+01,\n",
       "        1.25027113e+00,  2.44972654e+01,  4.22069354e+01,  5.46010935e+01,\n",
       "        6.20952595e+01,  5.48138259e+01,  3.99468964e+01,  2.38327925e+01,\n",
       "        8.19785460e+00, -4.26350082e+00, -8.94789877e+00, -1.20485392e+01,\n",
       "       -1.30929000e+01, -1.15240983e+01, -7.41079801e+00, -9.24457451e-01,\n",
       "        1.10012516e+01,  2.49411074e+01,  3.01437801e+01,  3.06086828e+01,\n",
       "        2.49726688e+01,  1.20119928e+01, -9.30026566e+00, -3.97365819e+01,\n",
       "       -7.97667413e+01, -1.16900357e+02, -1.29140996e+02, -1.42361672e+02,\n",
       "       -1.56749008e+02, -1.72304525e+02, -1.88799721e+02, -1.79217530e+02,\n",
       "       -1.18178770e+02, -5.64068216e+01,  4.03288588e+00,  6.12487132e+01,\n",
       "        1.13530108e+02,  1.59447774e+02,  1.97830976e+02,  2.27750930e+02,\n",
       "        2.34225564e+02,  2.21866331e+02,  2.02862526e+02,  1.78528170e+02,\n",
       "        1.47517345e+02,  1.08160855e+02,  6.07627835e+01,  1.36418820e+01,\n",
       "       -2.95487584e+01, -7.60158920e+01, -1.31063948e+02, -1.94150529e+02,\n",
       "       -2.64732710e+02, -3.38145466e+02, -4.13272999e+02, -4.86128113e+02,\n",
       "       -5.54728584e+02, -6.16959027e+02, -6.70086814e+02, -7.13142909e+02,\n",
       "       -7.44462655e+02, -7.62538439e+02, -7.66098525e+02, -7.54189285e+02,\n",
       "       -7.25241697e+02, -6.77875095e+02, -6.13562709e+02, -5.34154476e+02,\n",
       "       -4.41742087e+02, -3.38549611e+02, -2.25780499e+02, -1.09015489e+02,\n",
       "        9.14814393e+00,  1.26875643e+02,  2.42433629e+02,  3.54230561e+02,\n",
       "        4.63715841e+02,  5.67354733e+02,  6.66986157e+02,  7.63690614e+02,\n",
       "        8.54486236e+02,  9.40717538e+02,  1.02096230e+03,  1.09350380e+03,\n",
       "        1.15373874e+03,  1.20490171e+03,  1.24858729e+03,  1.28032439e+03,\n",
       "        1.30291445e+03,  1.31974623e+03,  1.32568350e+03,  1.32140682e+03,\n",
       "        1.32735375e+03,  1.38477606e+03,  1.43936719e+03,  1.49050407e+03,\n",
       "        1.53648911e+03,  1.57587652e+03,  1.60852669e+03,  1.63367361e+03,\n",
       "        1.65032697e+03,  1.65793761e+03,  1.65581384e+03,  1.64317054e+03,\n",
       "        1.63771108e+03,  1.64009978e+03,  1.63387889e+03,  1.61395949e+03,\n",
       "        1.53986690e+03,  1.45258453e+03,  1.39128961e+03,  1.37590868e+03,\n",
       "        1.35178160e+03,  1.31845152e+03,  1.26195627e+03,  1.19306704e+03,\n",
       "        1.11641490e+03,  1.03383034e+03,  9.61624010e+02,  8.83542218e+02,\n",
       "        8.00815418e+02,  7.14753344e+02,  6.26847893e+02,  5.38614660e+02,\n",
       "        4.51661894e+02,  3.67603144e+02,  2.87993966e+02,  2.14368475e+02,\n",
       "        1.48134262e+02,  9.06011741e+01,  4.06106829e+01,  7.56717357e-01,\n",
       "       -2.75428426e+01, -4.47859196e+01, -5.16951691e+01, -5.03889086e+01,\n",
       "       -4.29515262e+01, -3.07229708e+01, -3.06727753e+01, -3.21134037e+01,\n",
       "       -3.33002600e+01, -3.44083819e+01, -3.56151320e+01, -3.70854897e+01,\n",
       "       -3.89842765e+01, -4.14838823e+01, -4.47498272e+01, -4.89589190e+01,\n",
       "       -4.24334793e+01, -2.93902347e+01, -1.31241303e+01,  4.48619061e+00,\n",
       "        2.05765266e+01,  3.79832414e+01,  5.60752775e+01,  8.80006143e+01,\n",
       "        1.32437178e+02,  1.78545865e+02,  2.37613267e+02,  3.18282432e+02,\n",
       "        4.01562396e+02,  4.85630195e+02,  5.68625312e+02,  6.51898210e+02,\n",
       "        7.31952093e+02,  8.06323229e+02,  8.73478228e+02,  9.28108400e+02,\n",
       "        9.15198985e+02,  8.80771525e+02,  8.22921700e+02,  7.41320026e+02,\n",
       "        5.70386098e+02,  3.49342337e+02,  1.00862480e+02])"
      ]
     },
     "execution_count": 64,
     "metadata": {},
     "output_type": "execute_result"
    }
   ],
   "source": [
    "bv1*bv2"
   ]
  },
  {
   "cell_type": "code",
   "execution_count": 65,
   "id": "a7e8e3c5",
   "metadata": {},
   "outputs": [
    {
     "data": {
      "text/plain": [
       "array([18335969.557136  ,  1117751.01223951, 98861506.15785591,\n",
       "         139283.17819251])"
      ]
     },
     "execution_count": 65,
     "metadata": {},
     "output_type": "execute_result"
    }
   ],
   "source": [
    "s2"
   ]
  },
  {
   "cell_type": "code",
   "execution_count": 81,
   "id": "7c4c7b83",
   "metadata": {},
   "outputs": [],
   "source": [
    "baseline = bv2\n",
    "bv_profile = bv1\n",
    "dcorr1 = (np.sum(baseline*bv_profile))/(sqrt(np.sum(baseline**2)*np.sum(bv_profile**2)))"
   ]
  },
  {
   "cell_type": "code",
   "execution_count": 82,
   "id": "f91c4f89",
   "metadata": {},
   "outputs": [
    {
     "data": {
      "text/plain": [
       "0.05116883469902189"
      ]
     },
     "execution_count": 82,
     "metadata": {},
     "output_type": "execute_result"
    }
   ],
   "source": [
    "dcorr1"
   ]
  },
  {
   "cell_type": "code",
   "execution_count": 79,
   "id": "f8f26aaa",
   "metadata": {},
   "outputs": [],
   "source": [
    "top = 0 \n",
    "rad1 = 0\n",
    "rad2 = 0\n",
    "\n",
    "for i in range(len(data1)):\n",
    "    top += bv1[i]*bv2[i]\n",
    "    rad1 += bv1[i]**2\n",
    "    rad2 += bv2[i]**2\n",
    "\n",
    "bottom = sqrt(rad1*rad2)\n",
    "dcorr2 = top/bottom"
   ]
  },
  {
   "cell_type": "code",
   "execution_count": 80,
   "id": "8215f818",
   "metadata": {},
   "outputs": [
    {
     "data": {
      "text/plain": [
       "0.05116883469902179"
      ]
     },
     "execution_count": 80,
     "metadata": {},
     "output_type": "execute_result"
    }
   ],
   "source": [
    "dcorr2"
   ]
  },
  {
   "cell_type": "code",
   "execution_count": null,
   "id": "5828c18c",
   "metadata": {},
   "outputs": [],
   "source": []
  },
  {
   "cell_type": "code",
   "execution_count": null,
   "id": "60cd9a3a",
   "metadata": {},
   "outputs": [],
   "source": []
  },
  {
   "cell_type": "code",
   "execution_count": null,
   "id": "d7852b4c",
   "metadata": {},
   "outputs": [],
   "source": []
  }
 ],
 "metadata": {
  "kernelspec": {
   "display_name": "Python 3",
   "language": "python",
   "name": "python3"
  },
  "language_info": {
   "codemirror_mode": {
    "name": "ipython",
    "version": 3
   },
   "file_extension": ".py",
   "mimetype": "text/x-python",
   "name": "python",
   "nbconvert_exporter": "python",
   "pygments_lexer": "ipython3",
   "version": "3.8.8"
  }
 },
 "nbformat": 4,
 "nbformat_minor": 5
}
