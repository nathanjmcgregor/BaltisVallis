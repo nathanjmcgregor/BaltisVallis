{
 "cells": [
  {
   "cell_type": "code",
   "execution_count": 1,
   "id": "35fd6bab",
   "metadata": {},
   "outputs": [],
   "source": [
    "import numpy as np\n",
    "import matplotlib.pyplot as plt\n",
    "from math import radians, cos, sin, asin, sqrt\n",
    "import os"
   ]
  },
  {
   "cell_type": "markdown",
   "id": "2fccef14",
   "metadata": {},
   "source": [
    "# Correlation Function"
   ]
  },
  {
   "cell_type": "code",
   "execution_count": 2,
   "id": "0f7a8932",
   "metadata": {},
   "outputs": [],
   "source": [
    "def correlation(filename, baseline):\n",
    "        \n",
    "    \"\"\"\n",
    "    correlation equation that compares one dataset to another\n",
    "    pass in baseline profile (either first or last year in data set)\n",
    "    pass in the filename for each subsequent (or former) year's data\n",
    "    compare each subsequent (or former) year data with baseline profile\n",
    "    if baseline is first year, then first correlation = 1\n",
    "    if baseline is last year, then last correlation = 1\n",
    "    range of values should largely fall between 0 and 1\n",
    "    EX) two datasets, y and y'\n",
    "        the correlation is the sum of y times y' divided by the squareroot\n",
    "        of the sum of y squared and y' squared multiplied together\n",
    "    \"\"\"\n",
    "    \n",
    "    data_profile = np.loadtxt(filename)\n",
    "    bv_profile = data_profile[:,3]\n",
    "    dcorr = (np.sum(baseline*bv_profile))/(sqrt(np.sum(baseline**2)*np.sum(bv_profile**2)))\n",
    "    \n",
    "    return dcorr"
   ]
  },
  {
   "cell_type": "markdown",
   "id": "145f6320",
   "metadata": {},
   "source": [
    "# Plot Correlation Function"
   ]
  },
  {
   "cell_type": "code",
   "execution_count": 3,
   "id": "c494e027",
   "metadata": {},
   "outputs": [],
   "source": [
    "def plot_correlation(timespan, path, correlations):\n",
    "\n",
    "    # overly complicated way to extract the last year in the data set from the filename\n",
    "    # converts from string to int to be used for length of x-axis (Myr)\n",
    "    timespan = timespan.rsplit('_', 1)\n",
    "    timespan = timespan[0]\n",
    "    timespan = timespan.rsplit('_', 1)[-1]\n",
    "    timespan = timespan.replace('Myr', \"\")\n",
    "    timespan = timespan.lstrip(\"0\")\n",
    "    timespan = int(timespan)\n",
    "\n",
    "    # extract plot name from basename of directory path \n",
    "    plt_name = os.path.basename(path)\n",
    "\n",
    "    # create x-axis value, end point is from the last year of data set extracted\n",
    "    # from filename above, then split range into an eqaul number of values as \n",
    "    # the correlation values (the y axis)\n",
    "    t = np.linspace(0,timespan,len(correlations))\n",
    "\n",
    "    # plot correlation values against time (Myr)\n",
    "    plt.xlabel(\"Time (Myr)\")\n",
    "    plt.ylabel(\"Correlation\")\n",
    "    plt.scatter(t, correlations, marker='+', c=\"k\", s=20, linewidths=0.5)\n",
    "    plt.title(plt_name)\n",
    "    plt.minorticks_on()\n",
    "    plt.tight_layout()\n",
    "    plt.tick_params(which='both', direction='in', top=True, right=True, labelbottom = True, bottom = True)\n",
    "    plt.savefig('Correlation_' + str(plt_name) + '.png', dpi = 300, facecolor=(1, 1, 1))"
   ]
  },
  {
   "cell_type": "markdown",
   "id": "19313aed",
   "metadata": {},
   "source": [
    "# Data Set Analysis Loop - Correlate and Plot "
   ]
  },
  {
   "cell_type": "code",
   "execution_count": null,
   "id": "4c73fffc",
   "metadata": {},
   "outputs": [],
   "source": [
    "# enter you dataset to update directory to inputed data set\n",
    "data_set = input(\"Enter Data Set: \")\n",
    "directory = '/Users/nmcgregor/Documents/BaltisVallis/cedric_topo_data/' + data_set\n",
    "\n",
    "#initalize arrays \n",
    "corr_values = []\n",
    "files = []\n",
    "\n",
    "# builds list of filenames in directory and sorts them \n",
    "for filename in os.listdir(directory):\n",
    "    if filename.endswith(\".llt.dat\"):        \n",
    "        file = os.path.join(directory, filename)\n",
    "        files.append(file)\n",
    "        files.sort()\n",
    "\n",
    "# baseline BV profile (starting point to which all other BV profiles will be correlated)\n",
    "data_base = np.loadtxt(files[-1])\n",
    "bv_base = data_base[:,3]    \n",
    "\n",
    "# iterate over all profiles, calculate correlation between baseline BV profile\n",
    "# and each other profile, pass correlations to array\n",
    "for i in files:\n",
    "    corr = correlation(i, bv_base)\n",
    "    corr_values.append(corr)\n",
    "\n",
    "# takes last element in files list (last year) and splits filename\n",
    "# to be used later to determine length of x-axis (Myr) \n",
    "x_len = files[-1].rsplit('/', 1)[1]\n",
    "plot_correlation(x_len, directory, corr_values)"
   ]
  },
  {
   "cell_type": "markdown",
   "id": "c963bf1e",
   "metadata": {},
   "source": [
    "# Haversine Formula Function"
   ]
  },
  {
   "cell_type": "code",
   "execution_count": 12,
   "id": "3bbff457",
   "metadata": {},
   "outputs": [],
   "source": [
    "def haversine(lon1, lat1, lon2, lat2):\n",
    "    \n",
    "    \"\"\"\n",
    "    Calculate the great circle distance in meters between two points \n",
    "    on Venus (lat and lon specified in decimal degrees)\n",
    "    \"\"\"\n",
    "    \n",
    "    r = 6051.8e3 # Radius of Venus in meters. Determines return value units. From NASA Venus sheet.\n",
    "\n",
    "    # convert decimal degrees to radians \n",
    "    lon1, lat1, lon2, lat2 = map(radians, [lon1, lat1, lon2, lat2]) \n",
    "        \n",
    "    # haversine formula \n",
    "    dlon = lon2 - lon1 \n",
    "    dlat = lat2 - lat1 \n",
    "    a = sin(dlat/2)**2 + cos(lat1) * cos(lat2) * sin(dlon/2)**2\n",
    "    c = 2 * r * asin(sqrt(a)) \n",
    "    return c"
   ]
  },
  {
   "cell_type": "markdown",
   "id": "92939fdc",
   "metadata": {},
   "source": [
    "# Calculate distance from single data set"
   ]
  },
  {
   "cell_type": "code",
   "execution_count": 19,
   "id": "14d5a292",
   "metadata": {},
   "outputs": [],
   "source": [
    "\"\"\"\n",
    "for each point, calculate distance to next point and sum\n",
    "\"\"\"\n",
    "\n",
    "# enter you dataset to update directory to inputed data set\n",
    "data_set = input(\"Enter Data Set: \")\n",
    "data = '/Users/nmcgregor/Documents/BaltisVallis/cedric_topo_data/' + data_set\n",
    "\n",
    "# Variables\n",
    "lat = data[:,0]; lon = data[:,1]; bv = data[:,3]; \n",
    "i = 0 # start value\n",
    "sum = 0 # start value\n",
    "\n",
    "# loop that iterates over lat and lon values, passes them to haversine function\n",
    "# which returns the distance from one point to the next, and continues to calculate\n",
    "# the distance from point 1 to 2, 3 to 4, 4 to 5 and so on while summing them to\n",
    "# calculate total distance of BV\n",
    "# len(data)-1 needed to end loop at end of array since incremeting by one each step\n",
    "for i in range(len(data)-1):\n",
    "    sum += haversine(lon[i], lat[i], lon[i+1], lat[i+1])"
   ]
  },
  {
   "cell_type": "markdown",
   "id": "d1a722b2",
   "metadata": {},
   "source": [
    "# Plot BV elevation values over its distance"
   ]
  },
  {
   "cell_type": "code",
   "execution_count": 30,
   "id": "6a38d975",
   "metadata": {},
   "outputs": [
    {
     "data": {
      "image/png": "[encoded data removed]",
      "text/plain": [
       "<Figure size 432x288 with 1 Axes>"
      ]
     },
     "metadata": {
      "needs_background": "light"
     },
     "output_type": "display_data"
    }
   ],
   "source": [
    "\"\"\"\n",
    "plots BV elevation interpolated from grid values of Cedric's data (topography data)\n",
    "against length of BV \n",
    "\"\"\"\n",
    "\n",
    "# x values array needs to have same # of elements as BV elevation values\n",
    "# sum is divided by 1e3 so units are km \n",
    "dist = np.linspace(0,sum/1e3,len(data))\n",
    "\n",
    "plt.xlabel(\"Distance (km)\")\n",
    "plt.ylabel(\"Elevation (km)\")\n",
    "plt.plot(dist,bv/1e3,\"k-\",linewidth=1)\n",
    "plt.title(\"400Myr\")\n",
    "plt.minorticks_on()\n",
    "plt.tight_layout()\n",
    "plt.tick_params(which='both', direction='in', top=True, right=True, labelbottom = True, bottom = True)\n",
    "plt.savefig('DT_Newtopo3full_00400Myr_00290.txt.llt.dat.png', dpi = 300, facecolor=(1, 1, 1))"
   ]
  },
  {
   "cell_type": "code",
   "execution_count": 24,
   "id": "6a7504b2",
   "metadata": {},
   "outputs": [
    {
     "data": {
      "text/plain": [
       "6725.92066409986"
      ]
     },
     "execution_count": 24,
     "metadata": {},
     "output_type": "execute_result"
    }
   ],
   "source": [
    "sum/1e3"
   ]
  }
 ],
 "metadata": {
  "kernelspec": {
   "display_name": "Python 3",
   "language": "python",
   "name": "python3"
  },
  "language_info": {
   "codemirror_mode": {
    "name": "ipython",
    "version": 3
   },
   "file_extension": ".py",
   "mimetype": "text/x-python",
   "name": "python",
   "nbconvert_exporter": "python",
   "pygments_lexer": "ipython3",
   "version": "3.8.8"
  }
 },
 "nbformat": 4,
 "nbformat_minor": 5
}
